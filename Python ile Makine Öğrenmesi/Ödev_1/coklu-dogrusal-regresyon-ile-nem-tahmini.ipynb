{
 "cells": [
  {
   "cell_type": "markdown",
   "id": "0db9733f-b06b-4bac-a844-8ffbc611a343",
   "metadata": {},
   "source": [
    "# Çoklu Doğrusal Regresyon (Multiple Linear Regression) İle Nem Tahmini"
   ]
  },
  {
   "cell_type": "markdown",
   "id": "2d9ffe72-3d7d-45ba-b7f0-3b65bcabc5ea",
   "metadata": {},
   "source": [
    "### Gerekli Kütüphaneler"
   ]
  },
  {
   "cell_type": "code",
   "execution_count": 1,
   "id": "d9bbd85a-62b1-4ebf-a17e-ff2fafd51422",
   "metadata": {},
   "outputs": [],
   "source": [
    "import numpy as np\n",
    "import pandas as pd\n",
    "import matplotlib.pyplot as plt\n",
    "import seaborn as sns\n",
    "import warnings\n",
    "warnings.filterwarnings('ignore')"
   ]
  },
  {
   "cell_type": "code",
   "execution_count": 2,
   "id": "4b366dcb-97d7-42b4-8b94-0d6d0006b2ef",
   "metadata": {},
   "outputs": [],
   "source": [
    "# verinin yüklenmesi\n",
    "df = pd.read_csv(\"odev_tenis.csv\")"
   ]
  },
  {
   "cell_type": "code",
   "execution_count": 3,
   "id": "7d256838-8373-42b2-a59b-548afe8b8593",
   "metadata": {},
   "outputs": [
    {
     "data": {
      "text/html": [
       "<div>\n",
       "<style scoped>\n",
       "    .dataframe tbody tr th:only-of-type {\n",
       "        vertical-align: middle;\n",
       "    }\n",
       "\n",
       "    .dataframe tbody tr th {\n",
       "        vertical-align: top;\n",
       "    }\n",
       "\n",
       "    .dataframe thead th {\n",
       "        text-align: right;\n",
       "    }\n",
       "</style>\n",
       "<table border=\"1\" class=\"dataframe\">\n",
       "  <thead>\n",
       "    <tr style=\"text-align: right;\">\n",
       "      <th></th>\n",
       "      <th>outlook</th>\n",
       "      <th>temperature</th>\n",
       "      <th>humidity</th>\n",
       "      <th>windy</th>\n",
       "      <th>play</th>\n",
       "    </tr>\n",
       "  </thead>\n",
       "  <tbody>\n",
       "    <tr>\n",
       "      <th>0</th>\n",
       "      <td>sunny</td>\n",
       "      <td>85</td>\n",
       "      <td>85</td>\n",
       "      <td>False</td>\n",
       "      <td>no</td>\n",
       "    </tr>\n",
       "    <tr>\n",
       "      <th>1</th>\n",
       "      <td>sunny</td>\n",
       "      <td>80</td>\n",
       "      <td>90</td>\n",
       "      <td>True</td>\n",
       "      <td>no</td>\n",
       "    </tr>\n",
       "    <tr>\n",
       "      <th>2</th>\n",
       "      <td>overcast</td>\n",
       "      <td>83</td>\n",
       "      <td>86</td>\n",
       "      <td>False</td>\n",
       "      <td>yes</td>\n",
       "    </tr>\n",
       "    <tr>\n",
       "      <th>3</th>\n",
       "      <td>rainy</td>\n",
       "      <td>70</td>\n",
       "      <td>96</td>\n",
       "      <td>False</td>\n",
       "      <td>yes</td>\n",
       "    </tr>\n",
       "    <tr>\n",
       "      <th>4</th>\n",
       "      <td>rainy</td>\n",
       "      <td>68</td>\n",
       "      <td>80</td>\n",
       "      <td>False</td>\n",
       "      <td>yes</td>\n",
       "    </tr>\n",
       "  </tbody>\n",
       "</table>\n",
       "</div>"
      ],
      "text/plain": [
       "    outlook  temperature  humidity  windy play\n",
       "0     sunny           85        85  False   no\n",
       "1     sunny           80        90   True   no\n",
       "2  overcast           83        86  False  yes\n",
       "3     rainy           70        96  False  yes\n",
       "4     rainy           68        80  False  yes"
      ]
     },
     "execution_count": 3,
     "metadata": {},
     "output_type": "execute_result"
    }
   ],
   "source": [
    "# verinin ilk 5 satırı  \n",
    "df.head()"
   ]
  },
  {
   "cell_type": "markdown",
   "id": "a56f3404-33f8-4588-813b-3cbc6c22eec7",
   "metadata": {},
   "source": [
    "### İlk 5 satırın türkçeleştirilmiş hali"
   ]
  },
  {
   "cell_type": "markdown",
   "id": "655a0657-39dc-4daa-a2ff-bbd2e93f8780",
   "metadata": {},
   "source": [
    "<table style=\"float:left\">\n",
    "  <tr>\n",
    "    <th> </th>\n",
    "    <th>havaŞartı</th>\n",
    "    <th>sıcaklık</th>\n",
    "    <th>nem</th>\n",
    "    <th>rüzgarlı</th>\n",
    "    <th>oynanır</th>\n",
    "  </tr>\n",
    "  <tr>\n",
    "    <td>0</td>\n",
    "    <td>güneşli</td>\n",
    "    <td>85</td>\n",
    "    <td>85</td>\n",
    "    <td>Yanlış</td>\n",
    "    <td>hayır</td>\n",
    "  </tr>\n",
    "  <tr>\n",
    "    <td>1</td>\n",
    "    <td>güneşli</td>\n",
    "    <td>80</td>\n",
    "    <td>90</td>\n",
    "    <td>Doğru</td>\n",
    "    <td>hayır</td>\n",
    "  </tr>\n",
    "  <tr>\n",
    "    <td>2</td>\n",
    "    <td>bulutlu</td>\n",
    "    <td>83</td>\n",
    "    <td>86</td>\n",
    "    <td>Yanlış</td>\n",
    "    <td>evet</td>\n",
    "  </tr>\n",
    "  <tr>\n",
    "    <td>3</td>\n",
    "    <td>yağmurlu</td>\n",
    "    <td>70</td>\n",
    "    <td>96</td>\n",
    "    <td>Yanlış</td>\n",
    "    <td>evet</td>\n",
    "  </tr>\n",
    "  <tr>\n",
    "    <td>4</td>\n",
    "    <td>yağmurlu</td>\n",
    "    <td>68</td>\n",
    "    <td>80</td>\n",
    "    <td>Yanlış</td>\n",
    "    <td>evet</td>\n",
    "  </tr>\n",
    "</table>\n"
   ]
  },
  {
   "cell_type": "code",
   "execution_count": 4,
   "id": "4ade6b41-5598-42d6-8b87-c3196ce5bc94",
   "metadata": {},
   "outputs": [
    {
     "data": {
      "text/plain": [
       "(14, 5)"
      ]
     },
     "execution_count": 4,
     "metadata": {},
     "output_type": "execute_result"
    }
   ],
   "source": [
    "# verinin satır ve sutun sayısı\n",
    "df.shape"
   ]
  },
  {
   "cell_type": "markdown",
   "id": "87babdf3-1183-4dbd-a900-9f28e7fb76ab",
   "metadata": {},
   "source": [
    "Veri seti 14 satırdan ve 5 sutundan oluşuyor"
   ]
  },
  {
   "cell_type": "code",
   "execution_count": 5,
   "id": "121a1ed8-d1e9-48e1-b2d7-233809845fe4",
   "metadata": {},
   "outputs": [
    {
     "name": "stdout",
     "output_type": "stream",
     "text": [
      "<class 'pandas.core.frame.DataFrame'>\n",
      "RangeIndex: 14 entries, 0 to 13\n",
      "Data columns (total 5 columns):\n",
      " #   Column       Non-Null Count  Dtype \n",
      "---  ------       --------------  ----- \n",
      " 0   outlook      14 non-null     object\n",
      " 1   temperature  14 non-null     int64 \n",
      " 2   humidity     14 non-null     int64 \n",
      " 3   windy        14 non-null     bool  \n",
      " 4   play         14 non-null     object\n",
      "dtypes: bool(1), int64(2), object(2)\n",
      "memory usage: 590.0+ bytes\n"
     ]
    }
   ],
   "source": [
    "df.info()"
   ]
  },
  {
   "cell_type": "markdown",
   "id": "23a7ca46-be2a-4067-a914-e9ab588015e4",
   "metadata": {},
   "source": [
    "Veri seti 1 adet boolean (mantıksal->True,False), 2 adet integer (sayısal), 2 adet de object (kategorik) tipinde değişkenden oluşuyor."
   ]
  },
  {
   "cell_type": "markdown",
   "id": "68785256-a8d8-4630-9360-d8d171e205c6",
   "metadata": {},
   "source": [
    "## Veri Ön İşleme\n",
    "Makine öğrenmesi modelleri sadece sayısal verilerle işlem yapabilirler dalayısıyla kuracağımız modelin daha anlamlı çıktılar üretebilmesi için bool ve object tipindeki sutunların sayısal hale dönüşütürülmesi gerekir."
   ]
  },
  {
   "cell_type": "markdown",
   "id": "3a317709-081f-45c7-93d5-6317fae3325a",
   "metadata": {},
   "source": [
    "## Label Encoding\n",
    "windy ve play sutunlarını label encoding işlemine tabi tutacağız bu sayade veri tipleri binary yani 0-1 haline dönüşmüş olacaktır. "
   ]
  },
  {
   "cell_type": "code",
   "execution_count": 6,
   "id": "a8202c86-62f0-4dc4-b3b8-9bbcc539ec97",
   "metadata": {},
   "outputs": [],
   "source": [
    "# gerekli fonksiyonun çağrılması\n",
    "from sklearn.preprocessing import LabelEncoder"
   ]
  },
  {
   "cell_type": "code",
   "execution_count": 7,
   "id": "89f9ae6e-a794-4487-8db7-15a352628e2d",
   "metadata": {},
   "outputs": [],
   "source": [
    "# label encoder objesi oluşturduk\n",
    "le = LabelEncoder()"
   ]
  },
  {
   "cell_type": "code",
   "execution_count": 8,
   "id": "0d1de649-c4c2-4c21-9e10-acd655d3afa3",
   "metadata": {},
   "outputs": [],
   "source": [
    "df[\"windy\"] = le.fit_transform(df[\"windy\"]) # windy dönüşümü"
   ]
  },
  {
   "cell_type": "code",
   "execution_count": 9,
   "id": "4e0d2318-385f-48c4-9b01-543a07c68b9b",
   "metadata": {},
   "outputs": [],
   "source": [
    "df[\"play\"] = le.fit_transform(df[\"play\"]) # play dönüşümü"
   ]
  },
  {
   "cell_type": "code",
   "execution_count": 10,
   "id": "63116e57-2aa3-43e8-a0df-312e05dedbe0",
   "metadata": {},
   "outputs": [
    {
     "data": {
      "text/html": [
       "<div>\n",
       "<style scoped>\n",
       "    .dataframe tbody tr th:only-of-type {\n",
       "        vertical-align: middle;\n",
       "    }\n",
       "\n",
       "    .dataframe tbody tr th {\n",
       "        vertical-align: top;\n",
       "    }\n",
       "\n",
       "    .dataframe thead th {\n",
       "        text-align: right;\n",
       "    }\n",
       "</style>\n",
       "<table border=\"1\" class=\"dataframe\">\n",
       "  <thead>\n",
       "    <tr style=\"text-align: right;\">\n",
       "      <th></th>\n",
       "      <th>outlook</th>\n",
       "      <th>temperature</th>\n",
       "      <th>humidity</th>\n",
       "      <th>windy</th>\n",
       "      <th>play</th>\n",
       "    </tr>\n",
       "  </thead>\n",
       "  <tbody>\n",
       "    <tr>\n",
       "      <th>0</th>\n",
       "      <td>sunny</td>\n",
       "      <td>85</td>\n",
       "      <td>85</td>\n",
       "      <td>0</td>\n",
       "      <td>0</td>\n",
       "    </tr>\n",
       "    <tr>\n",
       "      <th>1</th>\n",
       "      <td>sunny</td>\n",
       "      <td>80</td>\n",
       "      <td>90</td>\n",
       "      <td>1</td>\n",
       "      <td>0</td>\n",
       "    </tr>\n",
       "    <tr>\n",
       "      <th>2</th>\n",
       "      <td>overcast</td>\n",
       "      <td>83</td>\n",
       "      <td>86</td>\n",
       "      <td>0</td>\n",
       "      <td>1</td>\n",
       "    </tr>\n",
       "    <tr>\n",
       "      <th>3</th>\n",
       "      <td>rainy</td>\n",
       "      <td>70</td>\n",
       "      <td>96</td>\n",
       "      <td>0</td>\n",
       "      <td>1</td>\n",
       "    </tr>\n",
       "    <tr>\n",
       "      <th>4</th>\n",
       "      <td>rainy</td>\n",
       "      <td>68</td>\n",
       "      <td>80</td>\n",
       "      <td>0</td>\n",
       "      <td>1</td>\n",
       "    </tr>\n",
       "  </tbody>\n",
       "</table>\n",
       "</div>"
      ],
      "text/plain": [
       "    outlook  temperature  humidity  windy  play\n",
       "0     sunny           85        85      0     0\n",
       "1     sunny           80        90      1     0\n",
       "2  overcast           83        86      0     1\n",
       "3     rainy           70        96      0     1\n",
       "4     rainy           68        80      0     1"
      ]
     },
     "execution_count": 10,
     "metadata": {},
     "output_type": "execute_result"
    }
   ],
   "source": [
    "df.head()"
   ]
  },
  {
   "cell_type": "markdown",
   "id": "3c65a1c5-da61-4b4d-b8ab-306a15409d37",
   "metadata": {},
   "source": [
    "Dönüşümden sonda `False` ve `no` değerleri 0 olurken `True` ve `yes` değerleri 1 oldu."
   ]
  },
  {
   "cell_type": "markdown",
   "id": "1ac04725-381d-4ca5-ab60-4e2e9cf3e3dc",
   "metadata": {},
   "source": [
    "## One-Hot Encoding\n",
    "outlook sutununu one-hot encoding ile dönüştüreceğiz çünkü hava şartlarının kendi aralarında sınıfsal bir farkı yoktur."
   ]
  },
  {
   "cell_type": "code",
   "execution_count": 11,
   "id": "f8a05210-b68f-4c79-9e91-b841d7590aa4",
   "metadata": {},
   "outputs": [],
   "source": [
    "# gerekli fonksiyonun çağrılması\n",
    "from sklearn.preprocessing import OneHotEncoder"
   ]
  },
  {
   "cell_type": "code",
   "execution_count": 12,
   "id": "5c60304d-0d75-465d-b4dd-b886f1869335",
   "metadata": {
    "tags": []
   },
   "outputs": [],
   "source": [
    "df = pd.concat([df, pd.get_dummies(df[\"outlook\"], prefix=\"outlook\")], axis=1).drop(\"outlook\", axis=1) # outlook dönüşümü"
   ]
  },
  {
   "cell_type": "code",
   "execution_count": 13,
   "id": "fa439126-5282-4e5b-bc92-46d13d317648",
   "metadata": {},
   "outputs": [
    {
     "data": {
      "text/html": [
       "<div>\n",
       "<style scoped>\n",
       "    .dataframe tbody tr th:only-of-type {\n",
       "        vertical-align: middle;\n",
       "    }\n",
       "\n",
       "    .dataframe tbody tr th {\n",
       "        vertical-align: top;\n",
       "    }\n",
       "\n",
       "    .dataframe thead th {\n",
       "        text-align: right;\n",
       "    }\n",
       "</style>\n",
       "<table border=\"1\" class=\"dataframe\">\n",
       "  <thead>\n",
       "    <tr style=\"text-align: right;\">\n",
       "      <th></th>\n",
       "      <th>temperature</th>\n",
       "      <th>humidity</th>\n",
       "      <th>windy</th>\n",
       "      <th>play</th>\n",
       "      <th>outlook_overcast</th>\n",
       "      <th>outlook_rainy</th>\n",
       "      <th>outlook_sunny</th>\n",
       "    </tr>\n",
       "  </thead>\n",
       "  <tbody>\n",
       "    <tr>\n",
       "      <th>0</th>\n",
       "      <td>85</td>\n",
       "      <td>85</td>\n",
       "      <td>0</td>\n",
       "      <td>0</td>\n",
       "      <td>0</td>\n",
       "      <td>0</td>\n",
       "      <td>1</td>\n",
       "    </tr>\n",
       "    <tr>\n",
       "      <th>1</th>\n",
       "      <td>80</td>\n",
       "      <td>90</td>\n",
       "      <td>1</td>\n",
       "      <td>0</td>\n",
       "      <td>0</td>\n",
       "      <td>0</td>\n",
       "      <td>1</td>\n",
       "    </tr>\n",
       "    <tr>\n",
       "      <th>2</th>\n",
       "      <td>83</td>\n",
       "      <td>86</td>\n",
       "      <td>0</td>\n",
       "      <td>1</td>\n",
       "      <td>1</td>\n",
       "      <td>0</td>\n",
       "      <td>0</td>\n",
       "    </tr>\n",
       "    <tr>\n",
       "      <th>3</th>\n",
       "      <td>70</td>\n",
       "      <td>96</td>\n",
       "      <td>0</td>\n",
       "      <td>1</td>\n",
       "      <td>0</td>\n",
       "      <td>1</td>\n",
       "      <td>0</td>\n",
       "    </tr>\n",
       "    <tr>\n",
       "      <th>4</th>\n",
       "      <td>68</td>\n",
       "      <td>80</td>\n",
       "      <td>0</td>\n",
       "      <td>1</td>\n",
       "      <td>0</td>\n",
       "      <td>1</td>\n",
       "      <td>0</td>\n",
       "    </tr>\n",
       "  </tbody>\n",
       "</table>\n",
       "</div>"
      ],
      "text/plain": [
       "   temperature  humidity  windy  play  outlook_overcast  outlook_rainy  \\\n",
       "0           85        85      0     0                 0              0   \n",
       "1           80        90      1     0                 0              0   \n",
       "2           83        86      0     1                 1              0   \n",
       "3           70        96      0     1                 0              1   \n",
       "4           68        80      0     1                 0              1   \n",
       "\n",
       "   outlook_sunny  \n",
       "0              1  \n",
       "1              1  \n",
       "2              0  \n",
       "3              0  \n",
       "4              0  "
      ]
     },
     "execution_count": 13,
     "metadata": {},
     "output_type": "execute_result"
    }
   ],
   "source": [
    "df.head()"
   ]
  },
  {
   "cell_type": "markdown",
   "id": "dd91441b-ca61-4f64-b69a-49cd50f527ee",
   "metadata": {},
   "source": [
    "## Veri Kontrolü"
   ]
  },
  {
   "cell_type": "code",
   "execution_count": 14,
   "id": "95fdc501-266c-47df-84f3-077ccea5f072",
   "metadata": {},
   "outputs": [
    {
     "data": {
      "text/plain": [
       "temperature         0\n",
       "humidity            0\n",
       "windy               0\n",
       "play                0\n",
       "outlook_overcast    0\n",
       "outlook_rainy       0\n",
       "outlook_sunny       0\n",
       "dtype: int64"
      ]
     },
     "execution_count": 14,
     "metadata": {},
     "output_type": "execute_result"
    }
   ],
   "source": [
    "# eksik veri var mı\n",
    "df.isnull().sum()"
   ]
  },
  {
   "cell_type": "code",
   "execution_count": 15,
   "id": "1bcac423-1cfb-4c66-be72-3866e558f6ff",
   "metadata": {},
   "outputs": [
    {
     "data": {
      "text/plain": [
       "temperature         int64\n",
       "humidity            int64\n",
       "windy               int64\n",
       "play                int32\n",
       "outlook_overcast    uint8\n",
       "outlook_rainy       uint8\n",
       "outlook_sunny       uint8\n",
       "dtype: object"
      ]
     },
     "execution_count": 15,
     "metadata": {},
     "output_type": "execute_result"
    }
   ],
   "source": [
    "# veri tipleri\n",
    "df.dtypes"
   ]
  },
  {
   "cell_type": "markdown",
   "id": "886c7135-8847-476e-8a16-3a299a86b2b1",
   "metadata": {},
   "source": [
    "Veri setimizde eksik veri ve sayısal olamayan değer yok. Model kurulum işlemine geçebiliriz."
   ]
  },
  {
   "cell_type": "markdown",
   "id": "b7ef493d-aca9-4bcb-b165-9a25d658925c",
   "metadata": {},
   "source": [
    "## Model Kurulumu"
   ]
  },
  {
   "cell_type": "markdown",
   "id": "53508dbb-82c5-4fa5-abdd-f9c566dfff21",
   "metadata": {},
   "source": [
    "humidity kolonu bağımlı değişkenimiz olacak diğer kolonlar ise bağımsız değişkenlerimiz olacaklar."
   ]
  },
  {
   "cell_type": "code",
   "execution_count": 16,
   "id": "861c2df7-a58a-4377-a6fc-0f7f9a1b1edf",
   "metadata": {},
   "outputs": [],
   "source": [
    "# rahat işlem yapabilmek için humidity kolonunu sona alalım\n",
    "df = df[[\"windy\", \"play\",\"outlook_overcast\", \"outlook_rainy\", \"outlook_sunny\", \"temperature\", \"humidity\"]]"
   ]
  },
  {
   "cell_type": "code",
   "execution_count": 17,
   "id": "b1cce83b-8d1b-49be-a1f0-2a3ce6dc121c",
   "metadata": {},
   "outputs": [],
   "source": [
    "# gerekli fonksiyonun çağrılması\n",
    "from sklearn.model_selection import train_test_split"
   ]
  },
  {
   "cell_type": "code",
   "execution_count": 18,
   "id": "263ef3c1-8ee6-44ad-ba2b-4cc5a3425625",
   "metadata": {},
   "outputs": [],
   "source": [
    "# Verinin train ve test olarak ikiye bölünmesi\n",
    "X_train, X_test, y_train, y_test = train_test_split(df.iloc[:, :-1], df.iloc[:, -1], test_size=0.33, random_state=0)"
   ]
  },
  {
   "cell_type": "markdown",
   "id": "e1cd520d-2530-45ba-8609-82cddd49e79b",
   "metadata": {},
   "source": [
    "Veri setimizin $2/3$'ünü eğitim için kalan $1/3$'ünü de test için ayırıyoruz "
   ]
  },
  {
   "cell_type": "code",
   "execution_count": 19,
   "id": "d20a343b-1835-4549-ae8d-0a29d0c56525",
   "metadata": {},
   "outputs": [
    {
     "name": "stdout",
     "output_type": "stream",
     "text": [
      "|    |   windy |   play |   outlook_overcast |   outlook_rainy |   outlook_sunny |   temperature |\n",
      "|---:|--------:|-------:|-------------------:|----------------:|----------------:|--------------:|\n",
      "| 13 |       1 |      0 |                  0 |               1 |               0 |            71 |\n",
      "|  9 |       0 |      1 |                  0 |               1 |               0 |            75 |\n",
      "|  1 |       1 |      0 |                  0 |               0 |               1 |            80 |\n",
      "|  7 |       0 |      0 |                  0 |               0 |               1 |            72 |\n",
      "| 10 |       1 |      1 |                  0 |               0 |               1 |            75 |\n",
      "|  3 |       0 |      1 |                  0 |               1 |               0 |            70 |\n",
      "|  0 |       0 |      0 |                  0 |               0 |               1 |            85 |\n",
      "|  5 |       1 |      0 |                  0 |               1 |               0 |            65 |\n",
      "| 12 |       0 |      1 |                  1 |               0 |               0 |            81 |\n",
      "|    |   windy |   play |   outlook_overcast |   outlook_rainy |   outlook_sunny |   temperature |\n",
      "|---:|--------:|-------:|-------------------:|----------------:|----------------:|--------------:|\n",
      "|  8 |       0 |      1 |                  0 |               0 |               1 |            69 |\n",
      "|  6 |       1 |      1 |                  1 |               0 |               0 |            64 |\n",
      "|  4 |       0 |      1 |                  0 |               1 |               0 |            68 |\n",
      "| 11 |       1 |      1 |                  1 |               0 |               0 |            72 |\n",
      "|  2 |       0 |      1 |                  1 |               0 |               0 |            83 |\n",
      "|    |   humidity |\n",
      "|---:|-----------:|\n",
      "| 13 |         91 |\n",
      "|  9 |         80 |\n",
      "|  1 |         90 |\n",
      "|  7 |         95 |\n",
      "| 10 |         70 |\n",
      "|  3 |         96 |\n",
      "|  0 |         85 |\n",
      "|  5 |         70 |\n",
      "| 12 |         75 |\n",
      "|    |   humidity |\n",
      "|---:|-----------:|\n",
      "|  8 |         70 |\n",
      "|  6 |         65 |\n",
      "|  4 |         80 |\n",
      "| 11 |         90 |\n",
      "|  2 |         86 |\n"
     ]
    }
   ],
   "source": [
    "# esasen veri setimiz 4 parçaya bölündü \n",
    "print(X_train.to_markdown())\n",
    "print(X_test.to_markdown())\n",
    "print(y_train.to_markdown())\n",
    "print(y_test.to_markdown())"
   ]
  },
  {
   "cell_type": "markdown",
   "id": "363a4179-cc89-4205-a440-6719fd35cbfd",
   "metadata": {},
   "source": [
    "### Çoklu Doğrusal Regresyon"
   ]
  },
  {
   "cell_type": "code",
   "execution_count": 20,
   "id": "b37714d3-85de-400d-9111-d690abdf1e55",
   "metadata": {},
   "outputs": [],
   "source": [
    "# gerekli fonksiyonun çağrılması\n",
    "from sklearn.linear_model import LinearRegression"
   ]
  },
  {
   "cell_type": "code",
   "execution_count": 21,
   "id": "f3a82cb2-e62c-40ee-b157-8117bbdca971",
   "metadata": {},
   "outputs": [],
   "source": [
    "# linear regression objesi oluşturduk\n",
    "regressor = LinearRegression()"
   ]
  },
  {
   "cell_type": "code",
   "execution_count": 22,
   "id": "2f470a74-b5bf-416f-bb04-f7ed54dc88d0",
   "metadata": {},
   "outputs": [],
   "source": [
    "# model eğitimi\n",
    "regressor.fit(X_train,y_train)\n",
    "y_pred = regressor.predict(X_test)"
   ]
  },
  {
   "cell_type": "code",
   "execution_count": 23,
   "id": "56466030-3b62-4e94-868b-d36c5160c3aa",
   "metadata": {},
   "outputs": [
    {
     "name": "stdout",
     "output_type": "stream",
     "text": [
      "[84.45365573 63.93839954 85.76050662 64.21013241 75.06793322]\n"
     ]
    }
   ],
   "source": [
    "# tahmin değerlerimiz\n",
    "print(y_pred)"
   ]
  },
  {
   "cell_type": "code",
   "execution_count": 24,
   "id": "697e5947-880a-4495-861a-a13cc9264bd4",
   "metadata": {},
   "outputs": [
    {
     "name": "stdout",
     "output_type": "stream",
     "text": [
      "   humidity     tahmin\n",
      "0        70  84.453656\n",
      "1        65  63.938400\n",
      "2        80  85.760507\n",
      "3        90  64.210132\n",
      "4        86  75.067933\n"
     ]
    }
   ],
   "source": [
    "tahmin = pd.DataFrame(y_pred, columns=[\"tahmin\"])\n",
    "\n",
    "result = pd.concat([y_test.reset_index(drop=True), tahmin], axis=1)\n",
    "print(result)"
   ]
  },
  {
   "cell_type": "markdown",
   "id": "05e53d68-8117-44f1-ac2c-4368b9960106",
   "metadata": {},
   "source": [
    "## Backward Elimination (geriye doğru eleme)\n",
    "H0: İki değişken arasında ilişki yokur.  -> Yokluk hipotezi\n",
    "\n",
    "H1: İki değişken arasında ilişki vardır. -> Alternatif hipotez\n",
    "\n",
    "Alfa standart olarak 0.05 alınır.        -> $α = 0.05$\n",
    "\n",
    "P-value alfadan büyükse H0 reddedilemez. -> $p > α$ H0'ı reddetmek için yeterli delil yok\n",
    "\n",
    "P-value alfadan küçükse H0 reddedilir.   -> $p < α$ H0 red"
   ]
  },
  {
   "cell_type": "markdown",
   "id": "2688b1f0-9c90-4dce-a51b-6c92338ce74a",
   "metadata": {},
   "source": [
    "Regresyon modeli kurarken, bağımlı değişkenlerle ilişkisi yüksek olan bağımsız değişkenlerin seçilmesi amaçlanır dolayısıyla H0 hipotezini reddetmeliyiz."
   ]
  },
  {
   "cell_type": "code",
   "execution_count": 25,
   "id": "dfb19229-d95c-4cc9-a964-90739479c8f5",
   "metadata": {},
   "outputs": [],
   "source": [
    "# gerekli kütüphanenin çağrılması\n",
    "import statsmodels.api as sm"
   ]
  },
  {
   "cell_type": "code",
   "execution_count": 26,
   "id": "e45a567e-a595-4345-8634-640b6446fe59",
   "metadata": {},
   "outputs": [
    {
     "data": {
      "text/html": [
       "<table class=\"simpletable\">\n",
       "<caption>OLS Regression Results</caption>\n",
       "<tr>\n",
       "  <th>Dep. Variable:</th>        <td>humidity</td>     <th>  R-squared:         </th> <td>   0.294</td>\n",
       "</tr>\n",
       "<tr>\n",
       "  <th>Model:</th>                   <td>OLS</td>       <th>  Adj. R-squared:    </th> <td>  -0.148</td>\n",
       "</tr>\n",
       "<tr>\n",
       "  <th>Method:</th>             <td>Least Squares</td>  <th>  F-statistic:       </th> <td>  0.6653</td>\n",
       "</tr>\n",
       "<tr>\n",
       "  <th>Date:</th>             <td>Sat, 04 Feb 2023</td> <th>  Prob (F-statistic):</th>  <td> 0.661</td> \n",
       "</tr>\n",
       "<tr>\n",
       "  <th>Time:</th>                 <td>21:28:20</td>     <th>  Log-Likelihood:    </th> <td> -49.542</td>\n",
       "</tr>\n",
       "<tr>\n",
       "  <th>No. Observations:</th>      <td>    14</td>      <th>  AIC:               </th> <td>   111.1</td>\n",
       "</tr>\n",
       "<tr>\n",
       "  <th>Df Residuals:</th>          <td>     8</td>      <th>  BIC:               </th> <td>   114.9</td>\n",
       "</tr>\n",
       "<tr>\n",
       "  <th>Df Model:</th>              <td>     5</td>      <th>                     </th>     <td> </td>   \n",
       "</tr>\n",
       "<tr>\n",
       "  <th>Covariance Type:</th>      <td>nonrobust</td>    <th>                     </th>     <td> </td>   \n",
       "</tr>\n",
       "</table>\n",
       "<table class=\"simpletable\">\n",
       "<tr>\n",
       "   <td></td>     <th>coef</th>     <th>std err</th>      <th>t</th>      <th>P>|t|</th>  <th>[0.025</th>    <th>0.975]</th>  \n",
       "</tr>\n",
       "<tr>\n",
       "  <th>x1</th> <td>   -4.0286</td> <td>    7.229</td> <td>   -0.557</td> <td> 0.593</td> <td>  -20.698</td> <td>   12.641</td>\n",
       "</tr>\n",
       "<tr>\n",
       "  <th>x2</th> <td>   -8.2778</td> <td>    8.029</td> <td>   -1.031</td> <td> 0.333</td> <td>  -26.793</td> <td>   10.237</td>\n",
       "</tr>\n",
       "<tr>\n",
       "  <th>x3</th> <td>   52.3891</td> <td>   50.214</td> <td>    1.043</td> <td> 0.327</td> <td>  -63.404</td> <td>  168.183</td>\n",
       "</tr>\n",
       "<tr>\n",
       "  <th>x4</th> <td>   55.6337</td> <td>   45.233</td> <td>    1.230</td> <td> 0.254</td> <td>  -48.673</td> <td>  159.940</td>\n",
       "</tr>\n",
       "<tr>\n",
       "  <th>x5</th> <td>   49.4291</td> <td>   48.337</td> <td>    1.023</td> <td> 0.336</td> <td>  -62.035</td> <td>  160.893</td>\n",
       "</tr>\n",
       "<tr>\n",
       "  <th>x6</th> <td>    0.4920</td> <td>    0.597</td> <td>    0.825</td> <td> 0.433</td> <td>   -0.884</td> <td>    1.868</td>\n",
       "</tr>\n",
       "</table>\n",
       "<table class=\"simpletable\">\n",
       "<tr>\n",
       "  <th>Omnibus:</th>       <td> 0.935</td> <th>  Durbin-Watson:     </th> <td>   2.416</td>\n",
       "</tr>\n",
       "<tr>\n",
       "  <th>Prob(Omnibus):</th> <td> 0.627</td> <th>  Jarque-Bera (JB):  </th> <td>   0.823</td>\n",
       "</tr>\n",
       "<tr>\n",
       "  <th>Skew:</th>          <td> 0.389</td> <th>  Prob(JB):          </th> <td>   0.663</td>\n",
       "</tr>\n",
       "<tr>\n",
       "  <th>Kurtosis:</th>      <td> 2.103</td> <th>  Cond. No.          </th> <td>2.08e+03</td>\n",
       "</tr>\n",
       "</table><br/><br/>Notes:<br/>[1] Standard Errors assume that the covariance matrix of the errors is correctly specified.<br/>[2] The condition number is large, 2.08e+03. This might indicate that there are<br/>strong multicollinearity or other numerical problems."
      ],
      "text/plain": [
       "<class 'statsmodels.iolib.summary.Summary'>\n",
       "\"\"\"\n",
       "                            OLS Regression Results                            \n",
       "==============================================================================\n",
       "Dep. Variable:               humidity   R-squared:                       0.294\n",
       "Model:                            OLS   Adj. R-squared:                 -0.148\n",
       "Method:                 Least Squares   F-statistic:                    0.6653\n",
       "Date:                Sat, 04 Feb 2023   Prob (F-statistic):              0.661\n",
       "Time:                        21:28:20   Log-Likelihood:                -49.542\n",
       "No. Observations:                  14   AIC:                             111.1\n",
       "Df Residuals:                       8   BIC:                             114.9\n",
       "Df Model:                           5                                         \n",
       "Covariance Type:            nonrobust                                         \n",
       "==============================================================================\n",
       "                 coef    std err          t      P>|t|      [0.025      0.975]\n",
       "------------------------------------------------------------------------------\n",
       "x1            -4.0286      7.229     -0.557      0.593     -20.698      12.641\n",
       "x2            -8.2778      8.029     -1.031      0.333     -26.793      10.237\n",
       "x3            52.3891     50.214      1.043      0.327     -63.404     168.183\n",
       "x4            55.6337     45.233      1.230      0.254     -48.673     159.940\n",
       "x5            49.4291     48.337      1.023      0.336     -62.035     160.893\n",
       "x6             0.4920      0.597      0.825      0.433      -0.884       1.868\n",
       "==============================================================================\n",
       "Omnibus:                        0.935   Durbin-Watson:                   2.416\n",
       "Prob(Omnibus):                  0.627   Jarque-Bera (JB):                0.823\n",
       "Skew:                           0.389   Prob(JB):                        0.663\n",
       "Kurtosis:                       2.103   Cond. No.                     2.08e+03\n",
       "==============================================================================\n",
       "\n",
       "Notes:\n",
       "[1] Standard Errors assume that the covariance matrix of the errors is correctly specified.\n",
       "[2] The condition number is large, 2.08e+03. This might indicate that there are\n",
       "strong multicollinearity or other numerical problems.\n",
       "\"\"\""
      ]
     },
     "execution_count": 26,
     "metadata": {},
     "output_type": "execute_result"
    }
   ],
   "source": [
    "# model eğitimi\n",
    "X = np.append(arr = np.ones((14,1)).astype(int), values=df.iloc[:,:-1], axis=1 )\n",
    "X_l = df.iloc[:,[0,1,2,3,4,5]].values\n",
    "r_ols = sm.OLS(endog = df.iloc[:,-1:], exog =X_l)\n",
    "r = r_ols.fit()\n",
    "r.summary()"
   ]
  },
  {
   "cell_type": "code",
   "execution_count": 27,
   "id": "035a8734-092e-49e0-82d0-7814d19926f9",
   "metadata": {},
   "outputs": [
    {
     "data": {
      "text/plain": [
       "x1    0.592569\n",
       "x2    0.332708\n",
       "x3    0.327300\n",
       "x4    0.253657\n",
       "x5    0.336421\n",
       "x6    0.433415\n",
       "dtype: float64"
      ]
     },
     "execution_count": 27,
     "metadata": {},
     "output_type": "execute_result"
    }
   ],
   "source": [
    "# p-value yani olasılık değerleri\n",
    "r.pvalues"
   ]
  },
  {
   "cell_type": "markdown",
   "id": "f836f407-d24b-4564-848b-62302440adc5",
   "metadata": {},
   "source": [
    "Backward Elimination yöntemi ile kurduğumuz modelin tahmin başarısını arttırmak için sisteme etkisi az olan bağımız değişkenleri atacağız.\n",
    "\n",
    "P-value değerlerine baktığımız zaman olasılığı en yüksek olan x1'dir. Dolayısıyla onu sistemden atacağız."
   ]
  },
  {
   "cell_type": "code",
   "execution_count": 28,
   "id": "2fac77e7-e66c-4a96-8086-249c3e5f064a",
   "metadata": {},
   "outputs": [],
   "source": [
    "# en yüksek olasılık değerine sahip x1'yi yani windy sutununu attık\n",
    "df = df.iloc[:,1:]"
   ]
  },
  {
   "cell_type": "code",
   "execution_count": 29,
   "id": "39423300-24a5-49e1-8e51-04cd89769226",
   "metadata": {},
   "outputs": [
    {
     "data": {
      "text/html": [
       "<table class=\"simpletable\">\n",
       "<caption>OLS Regression Results</caption>\n",
       "<tr>\n",
       "  <th>Dep. Variable:</th>        <td>humidity</td>     <th>  R-squared:         </th> <td>   0.266</td>\n",
       "</tr>\n",
       "<tr>\n",
       "  <th>Model:</th>                   <td>OLS</td>       <th>  Adj. R-squared:    </th> <td>  -0.060</td>\n",
       "</tr>\n",
       "<tr>\n",
       "  <th>Method:</th>             <td>Least Squares</td>  <th>  F-statistic:       </th> <td>  0.8165</td>\n",
       "</tr>\n",
       "<tr>\n",
       "  <th>Date:</th>             <td>Sat, 04 Feb 2023</td> <th>  Prob (F-statistic):</th>  <td> 0.546</td> \n",
       "</tr>\n",
       "<tr>\n",
       "  <th>Time:</th>                 <td>21:28:21</td>     <th>  Log-Likelihood:    </th> <td> -49.809</td>\n",
       "</tr>\n",
       "<tr>\n",
       "  <th>No. Observations:</th>      <td>    14</td>      <th>  AIC:               </th> <td>   109.6</td>\n",
       "</tr>\n",
       "<tr>\n",
       "  <th>Df Residuals:</th>          <td>     9</td>      <th>  BIC:               </th> <td>   112.8</td>\n",
       "</tr>\n",
       "<tr>\n",
       "  <th>Df Model:</th>              <td>     4</td>      <th>                     </th>     <td> </td>   \n",
       "</tr>\n",
       "<tr>\n",
       "  <th>Covariance Type:</th>      <td>nonrobust</td>    <th>                     </th>     <td> </td>   \n",
       "</tr>\n",
       "</table>\n",
       "<table class=\"simpletable\">\n",
       "<tr>\n",
       "   <td></td>     <th>coef</th>     <th>std err</th>      <th>t</th>      <th>P>|t|</th>  <th>[0.025</th>    <th>0.975]</th>  \n",
       "</tr>\n",
       "<tr>\n",
       "  <th>x1</th> <td>   -6.2865</td> <td>    6.909</td> <td>   -0.910</td> <td> 0.387</td> <td>  -21.916</td> <td>    9.343</td>\n",
       "</tr>\n",
       "<tr>\n",
       "  <th>x2</th> <td>   36.6564</td> <td>   39.905</td> <td>    0.919</td> <td> 0.382</td> <td>  -53.615</td> <td>  126.927</td>\n",
       "</tr>\n",
       "<tr>\n",
       "  <th>x3</th> <td>   41.9135</td> <td>   36.464</td> <td>    1.149</td> <td> 0.280</td> <td>  -40.573</td> <td>  124.400</td>\n",
       "</tr>\n",
       "<tr>\n",
       "  <th>x4</th> <td>   35.1064</td> <td>   39.339</td> <td>    0.892</td> <td> 0.395</td> <td>  -53.884</td> <td>  124.097</td>\n",
       "</tr>\n",
       "<tr>\n",
       "  <th>x5</th> <td>    0.6484</td> <td>    0.506</td> <td>    1.282</td> <td> 0.232</td> <td>   -0.496</td> <td>    1.793</td>\n",
       "</tr>\n",
       "</table>\n",
       "<table class=\"simpletable\">\n",
       "<tr>\n",
       "  <th>Omnibus:</th>       <td> 0.887</td> <th>  Durbin-Watson:     </th> <td>   2.360</td>\n",
       "</tr>\n",
       "<tr>\n",
       "  <th>Prob(Omnibus):</th> <td> 0.642</td> <th>  Jarque-Bera (JB):  </th> <td>   0.810</td>\n",
       "</tr>\n",
       "<tr>\n",
       "  <th>Skew:</th>          <td> 0.424</td> <th>  Prob(JB):          </th> <td>   0.667</td>\n",
       "</tr>\n",
       "<tr>\n",
       "  <th>Kurtosis:</th>      <td> 2.181</td> <th>  Cond. No.          </th> <td>1.73e+03</td>\n",
       "</tr>\n",
       "</table><br/><br/>Notes:<br/>[1] Standard Errors assume that the covariance matrix of the errors is correctly specified.<br/>[2] The condition number is large, 1.73e+03. This might indicate that there are<br/>strong multicollinearity or other numerical problems."
      ],
      "text/plain": [
       "<class 'statsmodels.iolib.summary.Summary'>\n",
       "\"\"\"\n",
       "                            OLS Regression Results                            \n",
       "==============================================================================\n",
       "Dep. Variable:               humidity   R-squared:                       0.266\n",
       "Model:                            OLS   Adj. R-squared:                 -0.060\n",
       "Method:                 Least Squares   F-statistic:                    0.8165\n",
       "Date:                Sat, 04 Feb 2023   Prob (F-statistic):              0.546\n",
       "Time:                        21:28:21   Log-Likelihood:                -49.809\n",
       "No. Observations:                  14   AIC:                             109.6\n",
       "Df Residuals:                       9   BIC:                             112.8\n",
       "Df Model:                           4                                         \n",
       "Covariance Type:            nonrobust                                         \n",
       "==============================================================================\n",
       "                 coef    std err          t      P>|t|      [0.025      0.975]\n",
       "------------------------------------------------------------------------------\n",
       "x1            -6.2865      6.909     -0.910      0.387     -21.916       9.343\n",
       "x2            36.6564     39.905      0.919      0.382     -53.615     126.927\n",
       "x3            41.9135     36.464      1.149      0.280     -40.573     124.400\n",
       "x4            35.1064     39.339      0.892      0.395     -53.884     124.097\n",
       "x5             0.6484      0.506      1.282      0.232      -0.496       1.793\n",
       "==============================================================================\n",
       "Omnibus:                        0.887   Durbin-Watson:                   2.360\n",
       "Prob(Omnibus):                  0.642   Jarque-Bera (JB):                0.810\n",
       "Skew:                           0.424   Prob(JB):                        0.667\n",
       "Kurtosis:                       2.181   Cond. No.                     1.73e+03\n",
       "==============================================================================\n",
       "\n",
       "Notes:\n",
       "[1] Standard Errors assume that the covariance matrix of the errors is correctly specified.\n",
       "[2] The condition number is large, 1.73e+03. This might indicate that there are\n",
       "strong multicollinearity or other numerical problems.\n",
       "\"\"\""
      ]
     },
     "execution_count": 29,
     "metadata": {},
     "output_type": "execute_result"
    }
   ],
   "source": [
    "# tekrardan modelimizi kuralım\n",
    "X = np.append(arr = np.ones((14,1)).astype(int), values=df.iloc[:,:-1], axis=1 )\n",
    "X_l = df.iloc[:,[0,1,2,3,4]].values\n",
    "r_ols = sm.OLS(endog = df.iloc[:,-1:], exog =X_l)\n",
    "r = r_ols.fit()\n",
    "r.summary()"
   ]
  },
  {
   "cell_type": "code",
   "execution_count": 30,
   "id": "6c61b66d-1820-44c6-99f6-143d1f520f75",
   "metadata": {},
   "outputs": [],
   "source": [
    "# yeni modeli eğitelim ve tekrardan tahmin yapalım\n",
    "X_train = X_train.iloc[:,1:]\n",
    "X_test = X_test.iloc[:,1:]\n",
    "\n",
    "regressor.fit(X_train,y_train)\n",
    "y_pred2 = regressor.predict(X_test)"
   ]
  },
  {
   "cell_type": "code",
   "execution_count": 31,
   "id": "9dbbaeff-a47e-4d2d-aa0b-81ff4e1363c3",
   "metadata": {},
   "outputs": [
    {
     "name": "stdout",
     "output_type": "stream",
     "text": [
      "[77.98135142 68.29304916 81.05037539 71.44926132 75.78905304]\n"
     ]
    }
   ],
   "source": [
    "print(y_pred2)"
   ]
  },
  {
   "cell_type": "code",
   "execution_count": 32,
   "id": "d3a0b4b4-bf2b-4fff-a9ef-ed694ec17f1c",
   "metadata": {},
   "outputs": [
    {
     "name": "stdout",
     "output_type": "stream",
     "text": [
      "   humidity   tahmin_2\n",
      "0        70  77.981351\n",
      "1        65  68.293049\n",
      "2        80  81.050375\n",
      "3        90  71.449261\n",
      "4        86  75.789053\n"
     ]
    }
   ],
   "source": [
    "tahmin2 = pd.DataFrame(y_pred2, columns=[\"tahmin_2\"])\n",
    "\n",
    "result2 = pd.concat([y_test.reset_index(drop=True), tahmin2], axis=1)\n",
    "print(result2)"
   ]
  },
  {
   "cell_type": "markdown",
   "id": "e0f679e8-9170-448d-ad17-3d485fc13348",
   "metadata": {},
   "source": [
    "### Eski tahmin değerleri ile Backward Elimination yöntemi uygulandıktan sonraki tahmin değerlerinin karşılaştırılması"
   ]
  },
  {
   "cell_type": "code",
   "execution_count": 33,
   "id": "d666819e-6dae-4db2-8ee5-4bf029ee334c",
   "metadata": {},
   "outputs": [
    {
     "data": {
      "text/html": [
       "<div>\n",
       "<style scoped>\n",
       "    .dataframe tbody tr th:only-of-type {\n",
       "        vertical-align: middle;\n",
       "    }\n",
       "\n",
       "    .dataframe tbody tr th {\n",
       "        vertical-align: top;\n",
       "    }\n",
       "\n",
       "    .dataframe thead th {\n",
       "        text-align: right;\n",
       "    }\n",
       "</style>\n",
       "<table border=\"1\" class=\"dataframe\">\n",
       "  <thead>\n",
       "    <tr style=\"text-align: right;\">\n",
       "      <th></th>\n",
       "      <th>humidity</th>\n",
       "      <th>tahmin</th>\n",
       "      <th>tahmin_2</th>\n",
       "    </tr>\n",
       "  </thead>\n",
       "  <tbody>\n",
       "    <tr>\n",
       "      <th>0</th>\n",
       "      <td>70</td>\n",
       "      <td>84.453656</td>\n",
       "      <td>77.981351</td>\n",
       "    </tr>\n",
       "    <tr>\n",
       "      <th>1</th>\n",
       "      <td>65</td>\n",
       "      <td>63.938400</td>\n",
       "      <td>68.293049</td>\n",
       "    </tr>\n",
       "    <tr>\n",
       "      <th>2</th>\n",
       "      <td>80</td>\n",
       "      <td>85.760507</td>\n",
       "      <td>81.050375</td>\n",
       "    </tr>\n",
       "    <tr>\n",
       "      <th>3</th>\n",
       "      <td>90</td>\n",
       "      <td>64.210132</td>\n",
       "      <td>71.449261</td>\n",
       "    </tr>\n",
       "    <tr>\n",
       "      <th>4</th>\n",
       "      <td>86</td>\n",
       "      <td>75.067933</td>\n",
       "      <td>75.789053</td>\n",
       "    </tr>\n",
       "  </tbody>\n",
       "</table>\n",
       "</div>"
      ],
      "text/plain": [
       "   humidity     tahmin   tahmin_2\n",
       "0        70  84.453656  77.981351\n",
       "1        65  63.938400  68.293049\n",
       "2        80  85.760507  81.050375\n",
       "3        90  64.210132  71.449261\n",
       "4        86  75.067933  75.789053"
      ]
     },
     "execution_count": 33,
     "metadata": {},
     "output_type": "execute_result"
    }
   ],
   "source": [
    "result_df = pd.concat([result, tahmin2], axis=1)\n",
    "result_df"
   ]
  },
  {
   "cell_type": "markdown",
   "id": "daa29d81-3a59-46b6-81f5-aa482dcd5e71",
   "metadata": {},
   "source": [
    "Sonuçları birbirleri ile kıyasladığımızda modelimizin daha isabetli tahminler yapabildiğini söyleyebiliriz."
   ]
  }
 ],
 "metadata": {
  "kernelspec": {
   "display_name": "Python 3 (ipykernel)",
   "language": "python",
   "name": "python3"
  },
  "language_info": {
   "codemirror_mode": {
    "name": "ipython",
    "version": 3
   },
   "file_extension": ".py",
   "mimetype": "text/x-python",
   "name": "python",
   "nbconvert_exporter": "python",
   "pygments_lexer": "ipython3",
   "version": "3.9.15"
  }
 },
 "nbformat": 4,
 "nbformat_minor": 5
}
